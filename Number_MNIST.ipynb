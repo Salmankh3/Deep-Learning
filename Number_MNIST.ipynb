{
  "nbformat": 4,
  "nbformat_minor": 0,
  "metadata": {
    "colab": {
      "name": "Number_MNIST.ipynb",
      "provenance": [],
      "collapsed_sections": [],
      "toc_visible": true
    },
    "kernelspec": {
      "name": "python3",
      "display_name": "Python 3"
    }
  },
  "cells": [
    {
      "cell_type": "markdown",
      "metadata": {
        "id": "6te99DGllA_b",
        "colab_type": "text"
      },
      "source": [
        "IMPORTING TENSORFLOW\n"
      ]
    },
    {
      "cell_type": "code",
      "metadata": {
        "id": "44icmeUYjaNB",
        "colab_type": "code",
        "colab": {}
      },
      "source": [
        "import tensorflow as tf\n",
        "import pandas as pd"
      ],
      "execution_count": 0,
      "outputs": []
    },
    {
      "cell_type": "code",
      "metadata": {
        "id": "S1NjMP8ljaPg",
        "colab_type": "code",
        "colab": {
          "base_uri": "https://localhost:8080/",
          "height": 34
        },
        "outputId": "58f3c134-425e-437e-81ac-a48944cf1b89"
      },
      "source": [
        "print(tf.__version__)"
      ],
      "execution_count": 2,
      "outputs": [
        {
          "output_type": "stream",
          "text": [
            "2.1.0\n"
          ],
          "name": "stdout"
        }
      ]
    },
    {
      "cell_type": "code",
      "metadata": {
        "id": "fwFuj5IPjaRp",
        "colab_type": "code",
        "colab": {}
      },
      "source": [
        "mnist = tf.keras.datasets.mnist"
      ],
      "execution_count": 0,
      "outputs": []
    },
    {
      "cell_type": "markdown",
      "metadata": {
        "id": "nwhd4dz1ldGa",
        "colab_type": "text"
      },
      "source": [
        "LOADING AND SPLITTING MNIST DATASET"
      ]
    },
    {
      "cell_type": "code",
      "metadata": {
        "id": "0tvqIho0jaKr",
        "colab_type": "code",
        "colab": {
          "base_uri": "https://localhost:8080/",
          "height": 51
        },
        "outputId": "01606336-6e59-4258-b0c1-9e47320b5dbf"
      },
      "source": [
        "(training_images, training_labels), (test_images, test_labels) = mnist.load_data()"
      ],
      "execution_count": 4,
      "outputs": [
        {
          "output_type": "stream",
          "text": [
            "Downloading data from https://storage.googleapis.com/tensorflow/tf-keras-datasets/mnist.npz\n",
            "11493376/11490434 [==============================] - 0s 0us/step\n"
          ],
          "name": "stdout"
        }
      ]
    },
    {
      "cell_type": "code",
      "metadata": {
        "id": "1DrGcbr3keIs",
        "colab_type": "code",
        "colab": {
          "base_uri": "https://localhost:8080/",
          "height": 85
        },
        "outputId": "84c001a7-9b71-4e94-844a-aeb0c90998de"
      },
      "source": [
        "print(len(training_images))\n",
        "print(len(test_images))\n",
        "print(len(training_labels))\n",
        "print(len(test_labels))"
      ],
      "execution_count": 6,
      "outputs": [
        {
          "output_type": "stream",
          "text": [
            "60000\n",
            "10000\n",
            "60000\n",
            "10000\n"
          ],
          "name": "stdout"
        }
      ]
    },
    {
      "cell_type": "markdown",
      "metadata": {
        "id": "r18hj0AfltUj",
        "colab_type": "text"
      },
      "source": [
        "DISPLAYING SOME MNIST IMAGES"
      ]
    },
    {
      "cell_type": "code",
      "metadata": {
        "id": "5mvQxPfRkeNe",
        "colab_type": "code",
        "colab": {
          "base_uri": "https://localhost:8080/",
          "height": 282
        },
        "outputId": "41cf2983-024f-4a34-fd75-17618c73c9ea"
      },
      "source": [
        "import matplotlib.pyplot as plt\n",
        "#plot the first image in the dataset\n",
        "plt.imshow(training_images[0])"
      ],
      "execution_count": 7,
      "outputs": [
        {
          "output_type": "execute_result",
          "data": {
            "text/plain": [
              "<matplotlib.image.AxesImage at 0x7f84c11b8198>"
            ]
          },
          "metadata": {
            "tags": []
          },
          "execution_count": 7
        },
        {
          "output_type": "display_data",
          "data": {
            "image/png": "[encoded data removed]",
            "text/plain": [
              "<Figure size 432x288 with 1 Axes>"
            ]
          },
          "metadata": {
            "tags": []
          }
        }
      ]
    },
    {
      "cell_type": "code",
      "metadata": {
        "id": "2azvHwMskeUS",
        "colab_type": "code",
        "colab": {
          "base_uri": "https://localhost:8080/",
          "height": 282
        },
        "outputId": "5beab44e-1868-4a3c-d37e-ca5aa965378f"
      },
      "source": [
        "plt.imshow(training_images[10])"
      ],
      "execution_count": 8,
      "outputs": [
        {
          "output_type": "execute_result",
          "data": {
            "text/plain": [
              "<matplotlib.image.AxesImage at 0x7f84c0d08470>"
            ]
          },
          "metadata": {
            "tags": []
          },
          "execution_count": 8
        },
        {
          "output_type": "display_data",
          "data": {
            "image/png": "[encoded data removed]",
            "text/plain": [
              "<Figure size 432x288 with 1 Axes>"
            ]
          },
          "metadata": {
            "tags": []
          }
        }
      ]
    },
    {
      "cell_type": "code",
      "metadata": {
        "id": "F9kfcxNkkeXJ",
        "colab_type": "code",
        "colab": {
          "base_uri": "https://localhost:8080/",
          "height": 282
        },
        "outputId": "b5d1cff8-33a6-4dab-9536-01c678f974a3"
      },
      "source": [
        "plt.imshow(training_images[605])"
      ],
      "execution_count": 9,
      "outputs": [
        {
          "output_type": "execute_result",
          "data": {
            "text/plain": [
              "<matplotlib.image.AxesImage at 0x7f84c0c67550>"
            ]
          },
          "metadata": {
            "tags": []
          },
          "execution_count": 9
        },
        {
          "output_type": "display_data",
          "data": {
            "image/png": "[encoded data removed]",
            "text/plain": [
              "<Figure size 432x288 with 1 Axes>"
            ]
          },
          "metadata": {
            "tags": []
          }
        }
      ]
    },
    {
      "cell_type": "code",
      "metadata": {
        "id": "rQXw0GcPkeaX",
        "colab_type": "code",
        "colab": {
          "base_uri": "https://localhost:8080/",
          "height": 282
        },
        "outputId": "4ab2b2e6-491e-4f69-8fbe-ac5e8491efc0"
      },
      "source": [
        "plt.imshow(training_images[2999])"
      ],
      "execution_count": 10,
      "outputs": [
        {
          "output_type": "execute_result",
          "data": {
            "text/plain": [
              "<matplotlib.image.AxesImage at 0x7f84c0c48128>"
            ]
          },
          "metadata": {
            "tags": []
          },
          "execution_count": 10
        },
        {
          "output_type": "display_data",
          "data": {
            "image/png": "[encoded data removed]",
            "text/plain": [
              "<Figure size 432x288 with 1 Axes>"
            ]
          },
          "metadata": {
            "tags": []
          }
        }
      ]
    },
    {
      "cell_type": "markdown",
      "metadata": {
        "id": "s38O7iETmThg",
        "colab_type": "text"
      },
      "source": [
        "NORMALIZING DATA"
      ]
    },
    {
      "cell_type": "code",
      "metadata": {
        "id": "tKc0GJMRl38h",
        "colab_type": "code",
        "colab": {}
      },
      "source": [
        "training_images  = training_images / 255.0\n",
        "test_images = test_images / 255.0"
      ],
      "execution_count": 0,
      "outputs": []
    },
    {
      "cell_type": "code",
      "metadata": {
        "id": "O-RD6JhLmYW_",
        "colab_type": "code",
        "colab": {}
      },
      "source": [
        "model = tf.keras.models.Sequential([tf.keras.layers.Flatten(),\n",
        "                                    tf.keras.layers.Dense(512,activation=tf.nn.relu),\n",
        "                                    tf.keras.layers.Dense(10, activation=tf.nn.softmax)])"
      ],
      "execution_count": 0,
      "outputs": []
    },
    {
      "cell_type": "code",
      "metadata": {
        "id": "3V6h--j6mcG-",
        "colab_type": "code",
        "colab": {
          "base_uri": "https://localhost:8080/",
          "height": 1000
        },
        "outputId": "6d514de2-650c-4624-905c-a6bea0eaab29"
      },
      "source": [
        "model.compile(optimizer = tf.keras.optimizers.RMSprop(),\n",
        "              loss = 'categorical_crossentropy',\n",
        "              metrics=['accuracy'])\n",
        "model.fit(training_images, training_labels, epochs=50)"
      ],
      "execution_count": 20,
      "outputs": [
        {
          "output_type": "stream",
          "text": [
            "Train on 60000 samples\n",
            "Epoch 1/50\n",
            "60000/60000 [==============================] - 12s 193us/sample - loss: 5232.1577 - accuracy: 0.1514\n",
            "Epoch 2/50\n",
            "60000/60000 [==============================] - 11s 179us/sample - loss: 5218.3053 - accuracy: 0.1592\n",
            "Epoch 3/50\n",
            "60000/60000 [==============================] - 11s 179us/sample - loss: 5338.1466 - accuracy: 0.1639\n",
            "Epoch 4/50\n",
            "60000/60000 [==============================] - 11s 186us/sample - loss: 5429.4370 - accuracy: 0.1516\n",
            "Epoch 5/50\n",
            "60000/60000 [==============================] - 11s 183us/sample - loss: 5575.9805 - accuracy: 0.1683\n",
            "Epoch 6/50\n",
            "60000/60000 [==============================] - 11s 181us/sample - loss: 5662.2443 - accuracy: 0.1514\n",
            "Epoch 7/50\n",
            "60000/60000 [==============================] - 11s 180us/sample - loss: 5801.2899 - accuracy: 0.1622\n",
            "Epoch 8/50\n",
            "60000/60000 [==============================] - 11s 180us/sample - loss: 5861.6094 - accuracy: 0.1635\n",
            "Epoch 9/50\n",
            "60000/60000 [==============================] - 11s 182us/sample - loss: 6065.0498 - accuracy: 0.1485\n",
            "Epoch 10/50\n",
            "60000/60000 [==============================] - 11s 186us/sample - loss: 6211.2023 - accuracy: 0.1691\n",
            "Epoch 11/50\n",
            "60000/60000 [==============================] - 11s 186us/sample - loss: 6328.7311 - accuracy: 0.1587\n",
            "Epoch 12/50\n",
            "60000/60000 [==============================] - 11s 183us/sample - loss: 6478.1558 - accuracy: 0.1601\n",
            "Epoch 13/50\n",
            "60000/60000 [==============================] - 11s 180us/sample - loss: 6617.7266 - accuracy: 0.1551\n",
            "Epoch 14/50\n",
            "60000/60000 [==============================] - 11s 183us/sample - loss: 6788.1903 - accuracy: 0.1585\n",
            "Epoch 15/50\n",
            "60000/60000 [==============================] - 11s 185us/sample - loss: 6918.3999 - accuracy: 0.1706\n",
            "Epoch 16/50\n",
            "60000/60000 [==============================] - 11s 182us/sample - loss: 7092.4584 - accuracy: 0.1657\n",
            "Epoch 17/50\n",
            "60000/60000 [==============================] - 11s 181us/sample - loss: 7391.6611 - accuracy: 0.1789\n",
            "Epoch 18/50\n",
            "60000/60000 [==============================] - 11s 183us/sample - loss: 7662.1250 - accuracy: 0.1636\n",
            "Epoch 19/50\n",
            "60000/60000 [==============================] - 11s 180us/sample - loss: 7842.7408 - accuracy: 0.1526\n",
            "Epoch 20/50\n",
            "60000/60000 [==============================] - 11s 183us/sample - loss: 8125.2865 - accuracy: 0.1264\n",
            "Epoch 21/50\n",
            "60000/60000 [==============================] - 11s 181us/sample - loss: 8287.6034 - accuracy: 0.1503\n",
            "Epoch 22/50\n",
            "60000/60000 [==============================] - 11s 183us/sample - loss: 8410.5990 - accuracy: 0.1674\n",
            "Epoch 23/50\n",
            "60000/60000 [==============================] - 11s 185us/sample - loss: 8561.6740 - accuracy: 0.1574\n",
            "Epoch 24/50\n",
            "60000/60000 [==============================] - 11s 184us/sample - loss: 8691.4131 - accuracy: 0.1366\n",
            "Epoch 25/50\n",
            "60000/60000 [==============================] - 11s 183us/sample - loss: 8870.2405 - accuracy: 0.1759\n",
            "Epoch 26/50\n",
            "60000/60000 [==============================] - 11s 184us/sample - loss: 9157.1624 - accuracy: 0.1461\n",
            "Epoch 27/50\n",
            "60000/60000 [==============================] - 11s 185us/sample - loss: 9319.6071 - accuracy: 0.1411\n",
            "Epoch 28/50\n",
            "60000/60000 [==============================] - 11s 184us/sample - loss: 9478.9148 - accuracy: 0.1728\n",
            "Epoch 29/50\n",
            "60000/60000 [==============================] - 11s 183us/sample - loss: 9605.6869 - accuracy: 0.1690\n",
            "Epoch 30/50\n",
            "60000/60000 [==============================] - 11s 181us/sample - loss: 9823.1750 - accuracy: 0.1604\n",
            "Epoch 31/50\n",
            "60000/60000 [==============================] - 11s 180us/sample - loss: 10020.3959 - accuracy: 0.1678\n",
            "Epoch 32/50\n",
            "60000/60000 [==============================] - 11s 180us/sample - loss: 10273.3974 - accuracy: 0.1330\n",
            "Epoch 33/50\n",
            "60000/60000 [==============================] - 11s 189us/sample - loss: 10354.4735 - accuracy: 0.1628\n",
            "Epoch 34/50\n",
            "60000/60000 [==============================] - 11s 182us/sample - loss: 10675.1055 - accuracy: 0.1412\n",
            "Epoch 35/50\n",
            "60000/60000 [==============================] - 11s 180us/sample - loss: 10824.6475 - accuracy: 0.1959\n",
            "Epoch 36/50\n",
            "60000/60000 [==============================] - 11s 182us/sample - loss: 10980.8535 - accuracy: 0.1955\n",
            "Epoch 37/50\n",
            "60000/60000 [==============================] - 11s 181us/sample - loss: 11327.5920 - accuracy: 0.2038\n",
            "Epoch 38/50\n",
            "60000/60000 [==============================] - 11s 180us/sample - loss: 11602.9934 - accuracy: 0.1956\n",
            "Epoch 39/50\n",
            "60000/60000 [==============================] - 11s 179us/sample - loss: 11712.0902 - accuracy: 0.1705\n",
            "Epoch 40/50\n",
            "60000/60000 [==============================] - 11s 178us/sample - loss: 11946.5857 - accuracy: 0.1609\n",
            "Epoch 41/50\n",
            "60000/60000 [==============================] - 11s 179us/sample - loss: 12105.0359 - accuracy: 0.1969\n",
            "Epoch 42/50\n",
            "60000/60000 [==============================] - 11s 184us/sample - loss: 12399.9556 - accuracy: 0.1373\n",
            "Epoch 43/50\n",
            "60000/60000 [==============================] - 11s 179us/sample - loss: 12632.5136 - accuracy: 0.1513\n",
            "Epoch 44/50\n",
            "60000/60000 [==============================] - 11s 181us/sample - loss: 12966.5153 - accuracy: 0.1102\n",
            "Epoch 45/50\n",
            "60000/60000 [==============================] - 11s 180us/sample - loss: 13282.4475 - accuracy: 0.2020\n",
            "Epoch 46/50\n",
            "60000/60000 [==============================] - 11s 180us/sample - loss: 13442.2381 - accuracy: 0.1636\n",
            "Epoch 47/50\n",
            "60000/60000 [==============================] - 11s 181us/sample - loss: 13671.6715 - accuracy: 0.1365\n",
            "Epoch 48/50\n",
            "60000/60000 [==============================] - 11s 181us/sample - loss: 14020.6822 - accuracy: 0.2133\n",
            "Epoch 49/50\n",
            "60000/60000 [==============================] - 11s 180us/sample - loss: 14155.7760 - accuracy: 0.1615\n",
            "Epoch 50/50\n",
            "60000/60000 [==============================] - 11s 183us/sample - loss: 14339.8971 - accuracy: 0.1538\n"
          ],
          "name": "stdout"
        },
        {
          "output_type": "execute_result",
          "data": {
            "text/plain": [
              "<tensorflow.python.keras.callbacks.History at 0x7f84ba0dc6d8>"
            ]
          },
          "metadata": {
            "tags": []
          },
          "execution_count": 20
        }
      ]
    },
    {
      "cell_type": "code",
      "metadata": {
        "id": "YimI7T-emcJF",
        "colab_type": "code",
        "colab": {
          "base_uri": "https://localhost:8080/",
          "height": 51
        },
        "outputId": "35a91e42-2257-468a-9da7-a3e90bc835bf"
      },
      "source": [
        "model.evaluate(test_images, test_labels)"
      ],
      "execution_count": 21,
      "outputs": [
        {
          "output_type": "stream",
          "text": [
            "10000/10000 [==============================] - 1s 79us/sample - loss: 14489.4777 - accuracy: 0.1421\n"
          ],
          "name": "stdout"
        },
        {
          "output_type": "execute_result",
          "data": {
            "text/plain": [
              "[14489.4777375, 0.1421]"
            ]
          },
          "metadata": {
            "tags": []
          },
          "execution_count": 21
        }
      ]
    }
  ]
}