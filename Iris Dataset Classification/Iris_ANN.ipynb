{
  "nbformat": 4,
  "nbformat_minor": 0,
  "metadata": {
    "colab": {
      "name": "IRIS_Dataset.ipynb",
      "provenance": []
    },
    "kernelspec": {
      "name": "python3",
      "display_name": "Python 3"
    }
  },
  "cells": [
    {
      "cell_type": "markdown",
      "metadata": {
        "id": "4X2A6gamUfeX",
        "colab_type": "text"
      },
      "source": [
        "IMPORTING LIBRARIES"
      ]
    },
    {
      "cell_type": "code",
      "metadata": {
        "id": "-qdGxtPrFlJb",
        "colab_type": "code",
        "colab": {
          "base_uri": "https://localhost:8080/",
          "height": 34
        },
        "outputId": "9c84a610-938d-4862-82be-b9db3279f6ab"
      },
      "source": [
        "import tensorflow as tf\n",
        "import numpy as np\n",
        "import pandas as pd\n",
        "import matplotlib.pyplot as plt\n",
        "from keras import models\n",
        "from keras import layers\n",
        "from keras.utils import to_categorical"
      ],
      "execution_count": 2,
      "outputs": [
        {
          "output_type": "stream",
          "text": [
            "Using TensorFlow backend.\n"
          ],
          "name": "stderr"
        }
      ]
    },
    {
      "cell_type": "code",
      "metadata": {
        "id": "XYIxpEGcOkTV",
        "colab_type": "code",
        "colab": {}
      },
      "source": [
        "# import load_iris function from dataset module\n",
        "from sklearn.datasets import load_iris\n",
        "from sklearn.model_selection import train_test_split\n",
        "from sklearn import preprocessing"
      ],
      "execution_count": 0,
      "outputs": []
    },
    {
      "cell_type": "markdown",
      "metadata": {
        "id": "gcM7ngfAUurH",
        "colab_type": "text"
      },
      "source": [
        "LOADING IRIS DATA"
      ]
    },
    {
      "cell_type": "code",
      "metadata": {
        "id": "xyiAJvrcOlPr",
        "colab_type": "code",
        "colab": {
          "base_uri": "https://localhost:8080/",
          "height": 34
        },
        "outputId": "8b62ec36-1bbf-40f2-940d-84ebd301a3c5"
      },
      "source": [
        "data_frame_iris  = load_iris()\n",
        "type(data_frame_iris)"
      ],
      "execution_count": 4,
      "outputs": [
        {
          "output_type": "execute_result",
          "data": {
            "text/plain": [
              "sklearn.utils.Bunch"
            ]
          },
          "metadata": {
            "tags": []
          },
          "execution_count": 4
        }
      ]
    },
    {
      "cell_type": "code",
      "metadata": {
        "id": "tG6WE_qBOqYY",
        "colab_type": "code",
        "colab": {
          "base_uri": "https://localhost:8080/",
          "height": 1000
        },
        "outputId": "aea61175-0d03-4d76-e592-a8648413d54b"
      },
      "source": [
        "print(data_frame_iris.data)"
      ],
      "execution_count": 5,
      "outputs": [
        {
          "output_type": "stream",
          "text": [
            "[[5.1 3.5 1.4 0.2]\n",
            " [4.9 3.  1.4 0.2]\n",
            " [4.7 3.2 1.3 0.2]\n",
            " [4.6 3.1 1.5 0.2]\n",
            " [5.  3.6 1.4 0.2]\n",
            " [5.4 3.9 1.7 0.4]\n",
            " [4.6 3.4 1.4 0.3]\n",
            " [5.  3.4 1.5 0.2]\n",
            " [4.4 2.9 1.4 0.2]\n",
            " [4.9 3.1 1.5 0.1]\n",
            " [5.4 3.7 1.5 0.2]\n",
            " [4.8 3.4 1.6 0.2]\n",
            " [4.8 3.  1.4 0.1]\n",
            " [4.3 3.  1.1 0.1]\n",
            " [5.8 4.  1.2 0.2]\n",
            " [5.7 4.4 1.5 0.4]\n",
            " [5.4 3.9 1.3 0.4]\n",
            " [5.1 3.5 1.4 0.3]\n",
            " [5.7 3.8 1.7 0.3]\n",
            " [5.1 3.8 1.5 0.3]\n",
            " [5.4 3.4 1.7 0.2]\n",
            " [5.1 3.7 1.5 0.4]\n",
            " [4.6 3.6 1.  0.2]\n",
            " [5.1 3.3 1.7 0.5]\n",
            " [4.8 3.4 1.9 0.2]\n",
            " [5.  3.  1.6 0.2]\n",
            " [5.  3.4 1.6 0.4]\n",
            " [5.2 3.5 1.5 0.2]\n",
            " [5.2 3.4 1.4 0.2]\n",
            " [4.7 3.2 1.6 0.2]\n",
            " [4.8 3.1 1.6 0.2]\n",
            " [5.4 3.4 1.5 0.4]\n",
            " [5.2 4.1 1.5 0.1]\n",
            " [5.5 4.2 1.4 0.2]\n",
            " [4.9 3.1 1.5 0.2]\n",
            " [5.  3.2 1.2 0.2]\n",
            " [5.5 3.5 1.3 0.2]\n",
            " [4.9 3.6 1.4 0.1]\n",
            " [4.4 3.  1.3 0.2]\n",
            " [5.1 3.4 1.5 0.2]\n",
            " [5.  3.5 1.3 0.3]\n",
            " [4.5 2.3 1.3 0.3]\n",
            " [4.4 3.2 1.3 0.2]\n",
            " [5.  3.5 1.6 0.6]\n",
            " [5.1 3.8 1.9 0.4]\n",
            " [4.8 3.  1.4 0.3]\n",
            " [5.1 3.8 1.6 0.2]\n",
            " [4.6 3.2 1.4 0.2]\n",
            " [5.3 3.7 1.5 0.2]\n",
            " [5.  3.3 1.4 0.2]\n",
            " [7.  3.2 4.7 1.4]\n",
            " [6.4 3.2 4.5 1.5]\n",
            " [6.9 3.1 4.9 1.5]\n",
            " [5.5 2.3 4.  1.3]\n",
            " [6.5 2.8 4.6 1.5]\n",
            " [5.7 2.8 4.5 1.3]\n",
            " [6.3 3.3 4.7 1.6]\n",
            " [4.9 2.4 3.3 1. ]\n",
            " [6.6 2.9 4.6 1.3]\n",
            " [5.2 2.7 3.9 1.4]\n",
            " [5.  2.  3.5 1. ]\n",
            " [5.9 3.  4.2 1.5]\n",
            " [6.  2.2 4.  1. ]\n",
            " [6.1 2.9 4.7 1.4]\n",
            " [5.6 2.9 3.6 1.3]\n",
            " [6.7 3.1 4.4 1.4]\n",
            " [5.6 3.  4.5 1.5]\n",
            " [5.8 2.7 4.1 1. ]\n",
            " [6.2 2.2 4.5 1.5]\n",
            " [5.6 2.5 3.9 1.1]\n",
            " [5.9 3.2 4.8 1.8]\n",
            " [6.1 2.8 4.  1.3]\n",
            " [6.3 2.5 4.9 1.5]\n",
            " [6.1 2.8 4.7 1.2]\n",
            " [6.4 2.9 4.3 1.3]\n",
            " [6.6 3.  4.4 1.4]\n",
            " [6.8 2.8 4.8 1.4]\n",
            " [6.7 3.  5.  1.7]\n",
            " [6.  2.9 4.5 1.5]\n",
            " [5.7 2.6 3.5 1. ]\n",
            " [5.5 2.4 3.8 1.1]\n",
            " [5.5 2.4 3.7 1. ]\n",
            " [5.8 2.7 3.9 1.2]\n",
            " [6.  2.7 5.1 1.6]\n",
            " [5.4 3.  4.5 1.5]\n",
            " [6.  3.4 4.5 1.6]\n",
            " [6.7 3.1 4.7 1.5]\n",
            " [6.3 2.3 4.4 1.3]\n",
            " [5.6 3.  4.1 1.3]\n",
            " [5.5 2.5 4.  1.3]\n",
            " [5.5 2.6 4.4 1.2]\n",
            " [6.1 3.  4.6 1.4]\n",
            " [5.8 2.6 4.  1.2]\n",
            " [5.  2.3 3.3 1. ]\n",
            " [5.6 2.7 4.2 1.3]\n",
            " [5.7 3.  4.2 1.2]\n",
            " [5.7 2.9 4.2 1.3]\n",
            " [6.2 2.9 4.3 1.3]\n",
            " [5.1 2.5 3.  1.1]\n",
            " [5.7 2.8 4.1 1.3]\n",
            " [6.3 3.3 6.  2.5]\n",
            " [5.8 2.7 5.1 1.9]\n",
            " [7.1 3.  5.9 2.1]\n",
            " [6.3 2.9 5.6 1.8]\n",
            " [6.5 3.  5.8 2.2]\n",
            " [7.6 3.  6.6 2.1]\n",
            " [4.9 2.5 4.5 1.7]\n",
            " [7.3 2.9 6.3 1.8]\n",
            " [6.7 2.5 5.8 1.8]\n",
            " [7.2 3.6 6.1 2.5]\n",
            " [6.5 3.2 5.1 2. ]\n",
            " [6.4 2.7 5.3 1.9]\n",
            " [6.8 3.  5.5 2.1]\n",
            " [5.7 2.5 5.  2. ]\n",
            " [5.8 2.8 5.1 2.4]\n",
            " [6.4 3.2 5.3 2.3]\n",
            " [6.5 3.  5.5 1.8]\n",
            " [7.7 3.8 6.7 2.2]\n",
            " [7.7 2.6 6.9 2.3]\n",
            " [6.  2.2 5.  1.5]\n",
            " [6.9 3.2 5.7 2.3]\n",
            " [5.6 2.8 4.9 2. ]\n",
            " [7.7 2.8 6.7 2. ]\n",
            " [6.3 2.7 4.9 1.8]\n",
            " [6.7 3.3 5.7 2.1]\n",
            " [7.2 3.2 6.  1.8]\n",
            " [6.2 2.8 4.8 1.8]\n",
            " [6.1 3.  4.9 1.8]\n",
            " [6.4 2.8 5.6 2.1]\n",
            " [7.2 3.  5.8 1.6]\n",
            " [7.4 2.8 6.1 1.9]\n",
            " [7.9 3.8 6.4 2. ]\n",
            " [6.4 2.8 5.6 2.2]\n",
            " [6.3 2.8 5.1 1.5]\n",
            " [6.1 2.6 5.6 1.4]\n",
            " [7.7 3.  6.1 2.3]\n",
            " [6.3 3.4 5.6 2.4]\n",
            " [6.4 3.1 5.5 1.8]\n",
            " [6.  3.  4.8 1.8]\n",
            " [6.9 3.1 5.4 2.1]\n",
            " [6.7 3.1 5.6 2.4]\n",
            " [6.9 3.1 5.1 2.3]\n",
            " [5.8 2.7 5.1 1.9]\n",
            " [6.8 3.2 5.9 2.3]\n",
            " [6.7 3.3 5.7 2.5]\n",
            " [6.7 3.  5.2 2.3]\n",
            " [6.3 2.5 5.  1.9]\n",
            " [6.5 3.  5.2 2. ]\n",
            " [6.2 3.4 5.4 2.3]\n",
            " [5.9 3.  5.1 1.8]]\n"
          ],
          "name": "stdout"
        }
      ]
    },
    {
      "cell_type": "markdown",
      "metadata": {
        "id": "ze9f_gEjU4w6",
        "colab_type": "text"
      },
      "source": [
        "ANALYSING DATA"
      ]
    },
    {
      "cell_type": "code",
      "metadata": {
        "id": "5vA3mekSOxoc",
        "colab_type": "code",
        "colab": {
          "base_uri": "https://localhost:8080/",
          "height": 34
        },
        "outputId": "62f80111-d36b-4656-e26b-8ef5a525ebd1"
      },
      "source": [
        "print(data_frame_iris.feature_names)"
      ],
      "execution_count": 6,
      "outputs": [
        {
          "output_type": "stream",
          "text": [
            "['sepal length (cm)', 'sepal width (cm)', 'petal length (cm)', 'petal width (cm)']\n"
          ],
          "name": "stdout"
        }
      ]
    },
    {
      "cell_type": "code",
      "metadata": {
        "id": "OWGaWrTiOytR",
        "colab_type": "code",
        "colab": {
          "base_uri": "https://localhost:8080/",
          "height": 34
        },
        "outputId": "5b9a3bc0-1484-42bb-8e4e-811b2018d2eb"
      },
      "source": [
        "print(data_frame_iris.target_names)"
      ],
      "execution_count": 7,
      "outputs": [
        {
          "output_type": "stream",
          "text": [
            "['setosa' 'versicolor' 'virginica']\n"
          ],
          "name": "stdout"
        }
      ]
    },
    {
      "cell_type": "code",
      "metadata": {
        "id": "8tNULoiJOywI",
        "colab_type": "code",
        "colab": {
          "base_uri": "https://localhost:8080/",
          "height": 102
        },
        "outputId": "28bafcb7-69cd-469c-a06b-e5069f96a8e8"
      },
      "source": [
        "print(data_frame_iris.target)"
      ],
      "execution_count": 8,
      "outputs": [
        {
          "output_type": "stream",
          "text": [
            "[0 0 0 0 0 0 0 0 0 0 0 0 0 0 0 0 0 0 0 0 0 0 0 0 0 0 0 0 0 0 0 0 0 0 0 0 0\n",
            " 0 0 0 0 0 0 0 0 0 0 0 0 0 1 1 1 1 1 1 1 1 1 1 1 1 1 1 1 1 1 1 1 1 1 1 1 1\n",
            " 1 1 1 1 1 1 1 1 1 1 1 1 1 1 1 1 1 1 1 1 1 1 1 1 1 1 2 2 2 2 2 2 2 2 2 2 2\n",
            " 2 2 2 2 2 2 2 2 2 2 2 2 2 2 2 2 2 2 2 2 2 2 2 2 2 2 2 2 2 2 2 2 2 2 2 2 2\n",
            " 2 2]\n"
          ],
          "name": "stdout"
        }
      ]
    },
    {
      "cell_type": "code",
      "metadata": {
        "id": "eg-MgGc0Oyyz",
        "colab_type": "code",
        "colab": {
          "base_uri": "https://localhost:8080/",
          "height": 51
        },
        "outputId": "f610152d-ec25-4c6e-a26d-06c850a6dcf0"
      },
      "source": [
        "print(type(data_frame_iris.data))\n",
        "print(type(data_frame_iris.target))"
      ],
      "execution_count": 10,
      "outputs": [
        {
          "output_type": "stream",
          "text": [
            "<class 'numpy.ndarray'>\n",
            "<class 'numpy.ndarray'>\n"
          ],
          "name": "stdout"
        }
      ]
    },
    {
      "cell_type": "code",
      "metadata": {
        "id": "vl7ZOLvROy04",
        "colab_type": "code",
        "colab": {
          "base_uri": "https://localhost:8080/",
          "height": 51
        },
        "outputId": "9c54f337-d797-4236-e6a9-e3c5e7aa3ab3"
      },
      "source": [
        "# check the shape of features and response\n",
        "print(data_frame_iris.data.shape)\n",
        "print(data_frame_iris.target.shape)"
      ],
      "execution_count": 11,
      "outputs": [
        {
          "output_type": "stream",
          "text": [
            "(150, 4)\n",
            "(150,)\n"
          ],
          "name": "stdout"
        }
      ]
    },
    {
      "cell_type": "markdown",
      "metadata": {
        "id": "-Ln7a14mU_7S",
        "colab_type": "text"
      },
      "source": [
        "SPLITTING DATA IN FEATURES AND TARGET"
      ]
    },
    {
      "cell_type": "code",
      "metadata": {
        "id": "ESyBVlUeOy39",
        "colab_type": "code",
        "colab": {
          "base_uri": "https://localhost:8080/",
          "height": 1000
        },
        "outputId": "b0ee2df9-5bac-462c-ca8a-d6882bec9197"
      },
      "source": [
        "# store feature matrix in x\n",
        "x =data_frame_iris[\"data\"]\n",
        "print(x)"
      ],
      "execution_count": 12,
      "outputs": [
        {
          "output_type": "stream",
          "text": [
            "[[5.1 3.5 1.4 0.2]\n",
            " [4.9 3.  1.4 0.2]\n",
            " [4.7 3.2 1.3 0.2]\n",
            " [4.6 3.1 1.5 0.2]\n",
            " [5.  3.6 1.4 0.2]\n",
            " [5.4 3.9 1.7 0.4]\n",
            " [4.6 3.4 1.4 0.3]\n",
            " [5.  3.4 1.5 0.2]\n",
            " [4.4 2.9 1.4 0.2]\n",
            " [4.9 3.1 1.5 0.1]\n",
            " [5.4 3.7 1.5 0.2]\n",
            " [4.8 3.4 1.6 0.2]\n",
            " [4.8 3.  1.4 0.1]\n",
            " [4.3 3.  1.1 0.1]\n",
            " [5.8 4.  1.2 0.2]\n",
            " [5.7 4.4 1.5 0.4]\n",
            " [5.4 3.9 1.3 0.4]\n",
            " [5.1 3.5 1.4 0.3]\n",
            " [5.7 3.8 1.7 0.3]\n",
            " [5.1 3.8 1.5 0.3]\n",
            " [5.4 3.4 1.7 0.2]\n",
            " [5.1 3.7 1.5 0.4]\n",
            " [4.6 3.6 1.  0.2]\n",
            " [5.1 3.3 1.7 0.5]\n",
            " [4.8 3.4 1.9 0.2]\n",
            " [5.  3.  1.6 0.2]\n",
            " [5.  3.4 1.6 0.4]\n",
            " [5.2 3.5 1.5 0.2]\n",
            " [5.2 3.4 1.4 0.2]\n",
            " [4.7 3.2 1.6 0.2]\n",
            " [4.8 3.1 1.6 0.2]\n",
            " [5.4 3.4 1.5 0.4]\n",
            " [5.2 4.1 1.5 0.1]\n",
            " [5.5 4.2 1.4 0.2]\n",
            " [4.9 3.1 1.5 0.2]\n",
            " [5.  3.2 1.2 0.2]\n",
            " [5.5 3.5 1.3 0.2]\n",
            " [4.9 3.6 1.4 0.1]\n",
            " [4.4 3.  1.3 0.2]\n",
            " [5.1 3.4 1.5 0.2]\n",
            " [5.  3.5 1.3 0.3]\n",
            " [4.5 2.3 1.3 0.3]\n",
            " [4.4 3.2 1.3 0.2]\n",
            " [5.  3.5 1.6 0.6]\n",
            " [5.1 3.8 1.9 0.4]\n",
            " [4.8 3.  1.4 0.3]\n",
            " [5.1 3.8 1.6 0.2]\n",
            " [4.6 3.2 1.4 0.2]\n",
            " [5.3 3.7 1.5 0.2]\n",
            " [5.  3.3 1.4 0.2]\n",
            " [7.  3.2 4.7 1.4]\n",
            " [6.4 3.2 4.5 1.5]\n",
            " [6.9 3.1 4.9 1.5]\n",
            " [5.5 2.3 4.  1.3]\n",
            " [6.5 2.8 4.6 1.5]\n",
            " [5.7 2.8 4.5 1.3]\n",
            " [6.3 3.3 4.7 1.6]\n",
            " [4.9 2.4 3.3 1. ]\n",
            " [6.6 2.9 4.6 1.3]\n",
            " [5.2 2.7 3.9 1.4]\n",
            " [5.  2.  3.5 1. ]\n",
            " [5.9 3.  4.2 1.5]\n",
            " [6.  2.2 4.  1. ]\n",
            " [6.1 2.9 4.7 1.4]\n",
            " [5.6 2.9 3.6 1.3]\n",
            " [6.7 3.1 4.4 1.4]\n",
            " [5.6 3.  4.5 1.5]\n",
            " [5.8 2.7 4.1 1. ]\n",
            " [6.2 2.2 4.5 1.5]\n",
            " [5.6 2.5 3.9 1.1]\n",
            " [5.9 3.2 4.8 1.8]\n",
            " [6.1 2.8 4.  1.3]\n",
            " [6.3 2.5 4.9 1.5]\n",
            " [6.1 2.8 4.7 1.2]\n",
            " [6.4 2.9 4.3 1.3]\n",
            " [6.6 3.  4.4 1.4]\n",
            " [6.8 2.8 4.8 1.4]\n",
            " [6.7 3.  5.  1.7]\n",
            " [6.  2.9 4.5 1.5]\n",
            " [5.7 2.6 3.5 1. ]\n",
            " [5.5 2.4 3.8 1.1]\n",
            " [5.5 2.4 3.7 1. ]\n",
            " [5.8 2.7 3.9 1.2]\n",
            " [6.  2.7 5.1 1.6]\n",
            " [5.4 3.  4.5 1.5]\n",
            " [6.  3.4 4.5 1.6]\n",
            " [6.7 3.1 4.7 1.5]\n",
            " [6.3 2.3 4.4 1.3]\n",
            " [5.6 3.  4.1 1.3]\n",
            " [5.5 2.5 4.  1.3]\n",
            " [5.5 2.6 4.4 1.2]\n",
            " [6.1 3.  4.6 1.4]\n",
            " [5.8 2.6 4.  1.2]\n",
            " [5.  2.3 3.3 1. ]\n",
            " [5.6 2.7 4.2 1.3]\n",
            " [5.7 3.  4.2 1.2]\n",
            " [5.7 2.9 4.2 1.3]\n",
            " [6.2 2.9 4.3 1.3]\n",
            " [5.1 2.5 3.  1.1]\n",
            " [5.7 2.8 4.1 1.3]\n",
            " [6.3 3.3 6.  2.5]\n",
            " [5.8 2.7 5.1 1.9]\n",
            " [7.1 3.  5.9 2.1]\n",
            " [6.3 2.9 5.6 1.8]\n",
            " [6.5 3.  5.8 2.2]\n",
            " [7.6 3.  6.6 2.1]\n",
            " [4.9 2.5 4.5 1.7]\n",
            " [7.3 2.9 6.3 1.8]\n",
            " [6.7 2.5 5.8 1.8]\n",
            " [7.2 3.6 6.1 2.5]\n",
            " [6.5 3.2 5.1 2. ]\n",
            " [6.4 2.7 5.3 1.9]\n",
            " [6.8 3.  5.5 2.1]\n",
            " [5.7 2.5 5.  2. ]\n",
            " [5.8 2.8 5.1 2.4]\n",
            " [6.4 3.2 5.3 2.3]\n",
            " [6.5 3.  5.5 1.8]\n",
            " [7.7 3.8 6.7 2.2]\n",
            " [7.7 2.6 6.9 2.3]\n",
            " [6.  2.2 5.  1.5]\n",
            " [6.9 3.2 5.7 2.3]\n",
            " [5.6 2.8 4.9 2. ]\n",
            " [7.7 2.8 6.7 2. ]\n",
            " [6.3 2.7 4.9 1.8]\n",
            " [6.7 3.3 5.7 2.1]\n",
            " [7.2 3.2 6.  1.8]\n",
            " [6.2 2.8 4.8 1.8]\n",
            " [6.1 3.  4.9 1.8]\n",
            " [6.4 2.8 5.6 2.1]\n",
            " [7.2 3.  5.8 1.6]\n",
            " [7.4 2.8 6.1 1.9]\n",
            " [7.9 3.8 6.4 2. ]\n",
            " [6.4 2.8 5.6 2.2]\n",
            " [6.3 2.8 5.1 1.5]\n",
            " [6.1 2.6 5.6 1.4]\n",
            " [7.7 3.  6.1 2.3]\n",
            " [6.3 3.4 5.6 2.4]\n",
            " [6.4 3.1 5.5 1.8]\n",
            " [6.  3.  4.8 1.8]\n",
            " [6.9 3.1 5.4 2.1]\n",
            " [6.7 3.1 5.6 2.4]\n",
            " [6.9 3.1 5.1 2.3]\n",
            " [5.8 2.7 5.1 1.9]\n",
            " [6.8 3.2 5.9 2.3]\n",
            " [6.7 3.3 5.7 2.5]\n",
            " [6.7 3.  5.2 2.3]\n",
            " [6.3 2.5 5.  1.9]\n",
            " [6.5 3.  5.2 2. ]\n",
            " [6.2 3.4 5.4 2.3]\n",
            " [5.9 3.  5.1 1.8]]\n"
          ],
          "name": "stdout"
        }
      ]
    },
    {
      "cell_type": "code",
      "metadata": {
        "id": "M9Kw6XVyOy5z",
        "colab_type": "code",
        "colab": {
          "base_uri": "https://localhost:8080/",
          "height": 1000
        },
        "outputId": "6c4e0f2c-380f-4152-95eb-cafc47c4474e"
      },
      "source": [
        "# store response matrix in y\n",
        "y =to_categorical(data_frame_iris[\"target\"])\n",
        "print(y)"
      ],
      "execution_count": 13,
      "outputs": [
        {
          "output_type": "stream",
          "text": [
            "[[1. 0. 0.]\n",
            " [1. 0. 0.]\n",
            " [1. 0. 0.]\n",
            " [1. 0. 0.]\n",
            " [1. 0. 0.]\n",
            " [1. 0. 0.]\n",
            " [1. 0. 0.]\n",
            " [1. 0. 0.]\n",
            " [1. 0. 0.]\n",
            " [1. 0. 0.]\n",
            " [1. 0. 0.]\n",
            " [1. 0. 0.]\n",
            " [1. 0. 0.]\n",
            " [1. 0. 0.]\n",
            " [1. 0. 0.]\n",
            " [1. 0. 0.]\n",
            " [1. 0. 0.]\n",
            " [1. 0. 0.]\n",
            " [1. 0. 0.]\n",
            " [1. 0. 0.]\n",
            " [1. 0. 0.]\n",
            " [1. 0. 0.]\n",
            " [1. 0. 0.]\n",
            " [1. 0. 0.]\n",
            " [1. 0. 0.]\n",
            " [1. 0. 0.]\n",
            " [1. 0. 0.]\n",
            " [1. 0. 0.]\n",
            " [1. 0. 0.]\n",
            " [1. 0. 0.]\n",
            " [1. 0. 0.]\n",
            " [1. 0. 0.]\n",
            " [1. 0. 0.]\n",
            " [1. 0. 0.]\n",
            " [1. 0. 0.]\n",
            " [1. 0. 0.]\n",
            " [1. 0. 0.]\n",
            " [1. 0. 0.]\n",
            " [1. 0. 0.]\n",
            " [1. 0. 0.]\n",
            " [1. 0. 0.]\n",
            " [1. 0. 0.]\n",
            " [1. 0. 0.]\n",
            " [1. 0. 0.]\n",
            " [1. 0. 0.]\n",
            " [1. 0. 0.]\n",
            " [1. 0. 0.]\n",
            " [1. 0. 0.]\n",
            " [1. 0. 0.]\n",
            " [1. 0. 0.]\n",
            " [0. 1. 0.]\n",
            " [0. 1. 0.]\n",
            " [0. 1. 0.]\n",
            " [0. 1. 0.]\n",
            " [0. 1. 0.]\n",
            " [0. 1. 0.]\n",
            " [0. 1. 0.]\n",
            " [0. 1. 0.]\n",
            " [0. 1. 0.]\n",
            " [0. 1. 0.]\n",
            " [0. 1. 0.]\n",
            " [0. 1. 0.]\n",
            " [0. 1. 0.]\n",
            " [0. 1. 0.]\n",
            " [0. 1. 0.]\n",
            " [0. 1. 0.]\n",
            " [0. 1. 0.]\n",
            " [0. 1. 0.]\n",
            " [0. 1. 0.]\n",
            " [0. 1. 0.]\n",
            " [0. 1. 0.]\n",
            " [0. 1. 0.]\n",
            " [0. 1. 0.]\n",
            " [0. 1. 0.]\n",
            " [0. 1. 0.]\n",
            " [0. 1. 0.]\n",
            " [0. 1. 0.]\n",
            " [0. 1. 0.]\n",
            " [0. 1. 0.]\n",
            " [0. 1. 0.]\n",
            " [0. 1. 0.]\n",
            " [0. 1. 0.]\n",
            " [0. 1. 0.]\n",
            " [0. 1. 0.]\n",
            " [0. 1. 0.]\n",
            " [0. 1. 0.]\n",
            " [0. 1. 0.]\n",
            " [0. 1. 0.]\n",
            " [0. 1. 0.]\n",
            " [0. 1. 0.]\n",
            " [0. 1. 0.]\n",
            " [0. 1. 0.]\n",
            " [0. 1. 0.]\n",
            " [0. 1. 0.]\n",
            " [0. 1. 0.]\n",
            " [0. 1. 0.]\n",
            " [0. 1. 0.]\n",
            " [0. 1. 0.]\n",
            " [0. 1. 0.]\n",
            " [0. 1. 0.]\n",
            " [0. 0. 1.]\n",
            " [0. 0. 1.]\n",
            " [0. 0. 1.]\n",
            " [0. 0. 1.]\n",
            " [0. 0. 1.]\n",
            " [0. 0. 1.]\n",
            " [0. 0. 1.]\n",
            " [0. 0. 1.]\n",
            " [0. 0. 1.]\n",
            " [0. 0. 1.]\n",
            " [0. 0. 1.]\n",
            " [0. 0. 1.]\n",
            " [0. 0. 1.]\n",
            " [0. 0. 1.]\n",
            " [0. 0. 1.]\n",
            " [0. 0. 1.]\n",
            " [0. 0. 1.]\n",
            " [0. 0. 1.]\n",
            " [0. 0. 1.]\n",
            " [0. 0. 1.]\n",
            " [0. 0. 1.]\n",
            " [0. 0. 1.]\n",
            " [0. 0. 1.]\n",
            " [0. 0. 1.]\n",
            " [0. 0. 1.]\n",
            " [0. 0. 1.]\n",
            " [0. 0. 1.]\n",
            " [0. 0. 1.]\n",
            " [0. 0. 1.]\n",
            " [0. 0. 1.]\n",
            " [0. 0. 1.]\n",
            " [0. 0. 1.]\n",
            " [0. 0. 1.]\n",
            " [0. 0. 1.]\n",
            " [0. 0. 1.]\n",
            " [0. 0. 1.]\n",
            " [0. 0. 1.]\n",
            " [0. 0. 1.]\n",
            " [0. 0. 1.]\n",
            " [0. 0. 1.]\n",
            " [0. 0. 1.]\n",
            " [0. 0. 1.]\n",
            " [0. 0. 1.]\n",
            " [0. 0. 1.]\n",
            " [0. 0. 1.]\n",
            " [0. 0. 1.]\n",
            " [0. 0. 1.]\n",
            " [0. 0. 1.]\n",
            " [0. 0. 1.]\n",
            " [0. 0. 1.]]\n"
          ],
          "name": "stdout"
        }
      ]
    },
    {
      "cell_type": "markdown",
      "metadata": {
        "id": "WglFI8FxVPe4",
        "colab_type": "text"
      },
      "source": [
        "MAKING TEST AND TRAIN SETS"
      ]
    },
    {
      "cell_type": "code",
      "metadata": {
        "id": "X94OAqGiPdsM",
        "colab_type": "code",
        "colab": {}
      },
      "source": [
        "x_train,x_test,y_train,y_test = train_test_split(x,y,test_size = 0.3)"
      ],
      "execution_count": 0,
      "outputs": []
    },
    {
      "cell_type": "code",
      "metadata": {
        "id": "Ls1EvusePdur",
        "colab_type": "code",
        "colab": {
          "base_uri": "https://localhost:8080/",
          "height": 34
        },
        "outputId": "22addaa8-f220-426b-f4d3-7a3132ab458e"
      },
      "source": [
        "len(x_train)"
      ],
      "execution_count": 15,
      "outputs": [
        {
          "output_type": "execute_result",
          "data": {
            "text/plain": [
              "105"
            ]
          },
          "metadata": {
            "tags": []
          },
          "execution_count": 15
        }
      ]
    },
    {
      "cell_type": "code",
      "metadata": {
        "id": "FPH0eyTyPdxB",
        "colab_type": "code",
        "colab": {
          "base_uri": "https://localhost:8080/",
          "height": 34
        },
        "outputId": "e2719cf7-3567-479d-a721-bfd1869f9a55"
      },
      "source": [
        "len(x_test)"
      ],
      "execution_count": 16,
      "outputs": [
        {
          "output_type": "execute_result",
          "data": {
            "text/plain": [
              "45"
            ]
          },
          "metadata": {
            "tags": []
          },
          "execution_count": 16
        }
      ]
    },
    {
      "cell_type": "code",
      "metadata": {
        "id": "d6bIYlrFPd1r",
        "colab_type": "code",
        "colab": {
          "base_uri": "https://localhost:8080/",
          "height": 34
        },
        "outputId": "11be1ca6-8df3-4514-98f1-0cf754e399a0"
      },
      "source": [
        "len(y_train)"
      ],
      "execution_count": 17,
      "outputs": [
        {
          "output_type": "execute_result",
          "data": {
            "text/plain": [
              "105"
            ]
          },
          "metadata": {
            "tags": []
          },
          "execution_count": 17
        }
      ]
    },
    {
      "cell_type": "code",
      "metadata": {
        "id": "nGfkO4o-Pd3u",
        "colab_type": "code",
        "colab": {
          "base_uri": "https://localhost:8080/",
          "height": 34
        },
        "outputId": "cc53d731-2f3a-4838-99ce-0bf51596fbeb"
      },
      "source": [
        "len(y_test)"
      ],
      "execution_count": 18,
      "outputs": [
        {
          "output_type": "execute_result",
          "data": {
            "text/plain": [
              "45"
            ]
          },
          "metadata": {
            "tags": []
          },
          "execution_count": 18
        }
      ]
    },
    {
      "cell_type": "markdown",
      "metadata": {
        "id": "A5Sj4AkXVXVv",
        "colab_type": "text"
      },
      "source": [
        "BUILDING AND COMPILING MODEL"
      ]
    },
    {
      "cell_type": "code",
      "metadata": {
        "id": "dr25Vb29Pd53",
        "colab_type": "code",
        "colab": {}
      },
      "source": [
        "model = tf.keras.models.Sequential([tf.keras.layers.Flatten(),\n",
        "                                    tf.keras.layers.Dense(6,activation=tf.nn.relu),\n",
        "                                    tf.keras.layers.Dense(3, activation=tf.nn.softmax)])"
      ],
      "execution_count": 0,
      "outputs": []
    },
    {
      "cell_type": "code",
      "metadata": {
        "id": "oflBl4QAP4co",
        "colab_type": "code",
        "colab": {}
      },
      "source": [
        "model.compile(optimizer=tf.keras.optimizers.RMSprop(),\n",
        "loss='categorical_crossentropy',\n",
        "metrics=['accuracy'])"
      ],
      "execution_count": 0,
      "outputs": []
    },
    {
      "cell_type": "markdown",
      "metadata": {
        "id": "4US-5ezHVdNf",
        "colab_type": "text"
      },
      "source": [
        "FITTING DATA INTO MODEL"
      ]
    },
    {
      "cell_type": "code",
      "metadata": {
        "id": "y5DtpcSPP4e8",
        "colab_type": "code",
        "colab": {
          "base_uri": "https://localhost:8080/",
          "height": 1000
        },
        "outputId": "f842721d-1601-44da-e308-d74b34669476"
      },
      "source": [
        "history = model.fit(x_train , y_train, validation_data = (x_test ,y_test), epochs=100)"
      ],
      "execution_count": 35,
      "outputs": [
        {
          "output_type": "stream",
          "text": [
            "Train on 105 samples, validate on 45 samples\n",
            "Epoch 1/100\n",
            "105/105 [==============================] - 0s 171us/sample - loss: 0.4843 - accuracy: 0.9333 - val_loss: 0.3861 - val_accuracy: 0.9778\n",
            "Epoch 2/100\n",
            "105/105 [==============================] - 0s 144us/sample - loss: 0.4816 - accuracy: 0.9333 - val_loss: 0.3841 - val_accuracy: 0.9778\n",
            "Epoch 3/100\n",
            "105/105 [==============================] - 0s 141us/sample - loss: 0.4788 - accuracy: 0.9238 - val_loss: 0.3729 - val_accuracy: 0.9778\n",
            "Epoch 4/100\n",
            "105/105 [==============================] - 0s 154us/sample - loss: 0.4750 - accuracy: 0.9333 - val_loss: 0.3752 - val_accuracy: 0.9778\n",
            "Epoch 5/100\n",
            "105/105 [==============================] - 0s 152us/sample - loss: 0.4718 - accuracy: 0.9238 - val_loss: 0.3728 - val_accuracy: 0.9778\n",
            "Epoch 6/100\n",
            "105/105 [==============================] - 0s 135us/sample - loss: 0.4683 - accuracy: 0.9333 - val_loss: 0.3657 - val_accuracy: 0.9778\n",
            "Epoch 7/100\n",
            "105/105 [==============================] - 0s 141us/sample - loss: 0.4650 - accuracy: 0.9429 - val_loss: 0.3634 - val_accuracy: 0.9778\n",
            "Epoch 8/100\n",
            "105/105 [==============================] - 0s 155us/sample - loss: 0.4627 - accuracy: 0.9429 - val_loss: 0.3667 - val_accuracy: 0.9778\n",
            "Epoch 9/100\n",
            "105/105 [==============================] - 0s 149us/sample - loss: 0.4597 - accuracy: 0.9238 - val_loss: 0.3662 - val_accuracy: 0.9778\n",
            "Epoch 10/100\n",
            "105/105 [==============================] - 0s 157us/sample - loss: 0.4560 - accuracy: 0.9333 - val_loss: 0.3555 - val_accuracy: 0.9778\n",
            "Epoch 11/100\n",
            "105/105 [==============================] - 0s 145us/sample - loss: 0.4519 - accuracy: 0.9333 - val_loss: 0.3540 - val_accuracy: 0.9778\n",
            "Epoch 12/100\n",
            "105/105 [==============================] - 0s 149us/sample - loss: 0.4492 - accuracy: 0.9429 - val_loss: 0.3439 - val_accuracy: 0.9778\n",
            "Epoch 13/100\n",
            "105/105 [==============================] - 0s 149us/sample - loss: 0.4459 - accuracy: 0.9143 - val_loss: 0.3477 - val_accuracy: 0.9778\n",
            "Epoch 14/100\n",
            "105/105 [==============================] - 0s 178us/sample - loss: 0.4476 - accuracy: 0.9238 - val_loss: 0.3434 - val_accuracy: 0.9778\n",
            "Epoch 15/100\n",
            "105/105 [==============================] - 0s 150us/sample - loss: 0.4393 - accuracy: 0.9524 - val_loss: 0.3373 - val_accuracy: 0.9778\n",
            "Epoch 16/100\n",
            "105/105 [==============================] - 0s 148us/sample - loss: 0.4379 - accuracy: 0.9238 - val_loss: 0.3395 - val_accuracy: 0.9778\n",
            "Epoch 17/100\n",
            "105/105 [==============================] - 0s 160us/sample - loss: 0.4342 - accuracy: 0.9524 - val_loss: 0.3376 - val_accuracy: 0.9778\n",
            "Epoch 18/100\n",
            "105/105 [==============================] - 0s 189us/sample - loss: 0.4311 - accuracy: 0.9524 - val_loss: 0.3304 - val_accuracy: 0.9778\n",
            "Epoch 19/100\n",
            "105/105 [==============================] - 0s 167us/sample - loss: 0.4297 - accuracy: 0.9333 - val_loss: 0.3275 - val_accuracy: 0.9778\n",
            "Epoch 20/100\n",
            "105/105 [==============================] - 0s 175us/sample - loss: 0.4252 - accuracy: 0.9429 - val_loss: 0.3233 - val_accuracy: 0.9778\n",
            "Epoch 21/100\n",
            "105/105 [==============================] - 0s 153us/sample - loss: 0.4222 - accuracy: 0.9333 - val_loss: 0.3307 - val_accuracy: 0.9778\n",
            "Epoch 22/100\n",
            "105/105 [==============================] - 0s 161us/sample - loss: 0.4211 - accuracy: 0.9429 - val_loss: 0.3175 - val_accuracy: 0.9778\n",
            "Epoch 23/100\n",
            "105/105 [==============================] - 0s 144us/sample - loss: 0.4172 - accuracy: 0.9333 - val_loss: 0.3207 - val_accuracy: 0.9778\n",
            "Epoch 24/100\n",
            "105/105 [==============================] - 0s 135us/sample - loss: 0.4143 - accuracy: 0.9429 - val_loss: 0.3193 - val_accuracy: 0.9778\n",
            "Epoch 25/100\n",
            "105/105 [==============================] - 0s 158us/sample - loss: 0.4130 - accuracy: 0.9429 - val_loss: 0.3221 - val_accuracy: 0.9778\n",
            "Epoch 26/100\n",
            "105/105 [==============================] - 0s 163us/sample - loss: 0.4099 - accuracy: 0.9524 - val_loss: 0.3143 - val_accuracy: 0.9778\n",
            "Epoch 27/100\n",
            "105/105 [==============================] - 0s 170us/sample - loss: 0.4101 - accuracy: 0.9333 - val_loss: 0.3153 - val_accuracy: 0.9778\n",
            "Epoch 28/100\n",
            "105/105 [==============================] - 0s 143us/sample - loss: 0.4048 - accuracy: 0.9429 - val_loss: 0.3090 - val_accuracy: 0.9778\n",
            "Epoch 29/100\n",
            "105/105 [==============================] - 0s 143us/sample - loss: 0.4022 - accuracy: 0.9333 - val_loss: 0.3145 - val_accuracy: 0.9778\n",
            "Epoch 30/100\n",
            "105/105 [==============================] - 0s 170us/sample - loss: 0.3999 - accuracy: 0.9429 - val_loss: 0.3088 - val_accuracy: 0.9778\n",
            "Epoch 31/100\n",
            "105/105 [==============================] - 0s 172us/sample - loss: 0.3978 - accuracy: 0.9524 - val_loss: 0.2987 - val_accuracy: 0.9778\n",
            "Epoch 32/100\n",
            "105/105 [==============================] - 0s 182us/sample - loss: 0.3951 - accuracy: 0.9429 - val_loss: 0.2961 - val_accuracy: 0.9556\n",
            "Epoch 33/100\n",
            "105/105 [==============================] - 0s 143us/sample - loss: 0.3940 - accuracy: 0.9429 - val_loss: 0.2957 - val_accuracy: 0.9778\n",
            "Epoch 34/100\n",
            "105/105 [==============================] - 0s 154us/sample - loss: 0.3898 - accuracy: 0.9429 - val_loss: 0.2941 - val_accuracy: 0.9778\n",
            "Epoch 35/100\n",
            "105/105 [==============================] - 0s 154us/sample - loss: 0.3878 - accuracy: 0.9429 - val_loss: 0.2987 - val_accuracy: 0.9778\n",
            "Epoch 36/100\n",
            "105/105 [==============================] - 0s 147us/sample - loss: 0.3850 - accuracy: 0.9429 - val_loss: 0.2896 - val_accuracy: 0.9778\n",
            "Epoch 37/100\n",
            "105/105 [==============================] - 0s 150us/sample - loss: 0.3851 - accuracy: 0.9333 - val_loss: 0.2889 - val_accuracy: 0.9778\n",
            "Epoch 38/100\n",
            "105/105 [==============================] - 0s 176us/sample - loss: 0.3802 - accuracy: 0.9429 - val_loss: 0.2895 - val_accuracy: 0.9778\n",
            "Epoch 39/100\n",
            "105/105 [==============================] - 0s 178us/sample - loss: 0.3793 - accuracy: 0.9333 - val_loss: 0.2925 - val_accuracy: 0.9778\n",
            "Epoch 40/100\n",
            "105/105 [==============================] - 0s 155us/sample - loss: 0.3770 - accuracy: 0.9429 - val_loss: 0.2887 - val_accuracy: 0.9778\n",
            "Epoch 41/100\n",
            "105/105 [==============================] - 0s 137us/sample - loss: 0.3742 - accuracy: 0.9429 - val_loss: 0.2794 - val_accuracy: 0.9778\n",
            "Epoch 42/100\n",
            "105/105 [==============================] - 0s 163us/sample - loss: 0.3715 - accuracy: 0.9429 - val_loss: 0.2800 - val_accuracy: 0.9778\n",
            "Epoch 43/100\n",
            "105/105 [==============================] - 0s 159us/sample - loss: 0.3698 - accuracy: 0.9429 - val_loss: 0.2760 - val_accuracy: 0.9778\n",
            "Epoch 44/100\n",
            "105/105 [==============================] - 0s 169us/sample - loss: 0.3671 - accuracy: 0.9333 - val_loss: 0.2752 - val_accuracy: 0.9778\n",
            "Epoch 45/100\n",
            "105/105 [==============================] - 0s 181us/sample - loss: 0.3650 - accuracy: 0.9429 - val_loss: 0.2759 - val_accuracy: 0.9778\n",
            "Epoch 46/100\n",
            "105/105 [==============================] - 0s 159us/sample - loss: 0.3624 - accuracy: 0.9429 - val_loss: 0.2733 - val_accuracy: 0.9778\n",
            "Epoch 47/100\n",
            "105/105 [==============================] - 0s 156us/sample - loss: 0.3604 - accuracy: 0.9524 - val_loss: 0.2667 - val_accuracy: 0.9556\n",
            "Epoch 48/100\n",
            "105/105 [==============================] - 0s 156us/sample - loss: 0.3596 - accuracy: 0.9429 - val_loss: 0.2661 - val_accuracy: 0.9778\n",
            "Epoch 49/100\n",
            "105/105 [==============================] - 0s 169us/sample - loss: 0.3557 - accuracy: 0.9429 - val_loss: 0.2680 - val_accuracy: 0.9778\n",
            "Epoch 50/100\n",
            "105/105 [==============================] - 0s 176us/sample - loss: 0.3531 - accuracy: 0.9333 - val_loss: 0.2591 - val_accuracy: 0.9556\n",
            "Epoch 51/100\n",
            "105/105 [==============================] - 0s 158us/sample - loss: 0.3527 - accuracy: 0.9429 - val_loss: 0.2552 - val_accuracy: 0.9556\n",
            "Epoch 52/100\n",
            "105/105 [==============================] - 0s 143us/sample - loss: 0.3530 - accuracy: 0.9429 - val_loss: 0.2591 - val_accuracy: 0.9778\n",
            "Epoch 53/100\n",
            "105/105 [==============================] - 0s 177us/sample - loss: 0.3469 - accuracy: 0.9429 - val_loss: 0.2574 - val_accuracy: 0.9778\n",
            "Epoch 54/100\n",
            "105/105 [==============================] - 0s 159us/sample - loss: 0.3455 - accuracy: 0.9429 - val_loss: 0.2570 - val_accuracy: 0.9778\n",
            "Epoch 55/100\n",
            "105/105 [==============================] - 0s 157us/sample - loss: 0.3426 - accuracy: 0.9429 - val_loss: 0.2557 - val_accuracy: 0.9778\n",
            "Epoch 56/100\n",
            "105/105 [==============================] - 0s 196us/sample - loss: 0.3403 - accuracy: 0.9429 - val_loss: 0.2535 - val_accuracy: 0.9778\n",
            "Epoch 57/100\n",
            "105/105 [==============================] - 0s 215us/sample - loss: 0.3386 - accuracy: 0.9333 - val_loss: 0.2465 - val_accuracy: 0.9556\n",
            "Epoch 58/100\n",
            "105/105 [==============================] - 0s 168us/sample - loss: 0.3374 - accuracy: 0.9429 - val_loss: 0.2487 - val_accuracy: 0.9778\n",
            "Epoch 59/100\n",
            "105/105 [==============================] - 0s 168us/sample - loss: 0.3354 - accuracy: 0.9429 - val_loss: 0.2498 - val_accuracy: 0.9778\n",
            "Epoch 60/100\n",
            "105/105 [==============================] - 0s 161us/sample - loss: 0.3329 - accuracy: 0.9524 - val_loss: 0.2555 - val_accuracy: 0.9778\n",
            "Epoch 61/100\n",
            "105/105 [==============================] - 0s 160us/sample - loss: 0.3316 - accuracy: 0.9619 - val_loss: 0.2455 - val_accuracy: 0.9778\n",
            "Epoch 62/100\n",
            "105/105 [==============================] - 0s 155us/sample - loss: 0.3293 - accuracy: 0.9333 - val_loss: 0.2377 - val_accuracy: 0.9556\n",
            "Epoch 63/100\n",
            "105/105 [==============================] - 0s 152us/sample - loss: 0.3286 - accuracy: 0.9429 - val_loss: 0.2357 - val_accuracy: 0.9556\n",
            "Epoch 64/100\n",
            "105/105 [==============================] - 0s 140us/sample - loss: 0.3282 - accuracy: 0.9524 - val_loss: 0.2395 - val_accuracy: 0.9778\n",
            "Epoch 65/100\n",
            "105/105 [==============================] - 0s 157us/sample - loss: 0.3238 - accuracy: 0.9429 - val_loss: 0.2391 - val_accuracy: 0.9778\n",
            "Epoch 66/100\n",
            "105/105 [==============================] - 0s 155us/sample - loss: 0.3244 - accuracy: 0.9333 - val_loss: 0.2372 - val_accuracy: 0.9778\n",
            "Epoch 67/100\n",
            "105/105 [==============================] - 0s 129us/sample - loss: 0.3222 - accuracy: 0.9524 - val_loss: 0.2423 - val_accuracy: 0.9778\n",
            "Epoch 68/100\n",
            "105/105 [==============================] - 0s 152us/sample - loss: 0.3195 - accuracy: 0.9429 - val_loss: 0.2338 - val_accuracy: 0.9778\n",
            "Epoch 69/100\n",
            "105/105 [==============================] - 0s 188us/sample - loss: 0.3171 - accuracy: 0.9429 - val_loss: 0.2281 - val_accuracy: 0.9778\n",
            "Epoch 70/100\n",
            "105/105 [==============================] - 0s 202us/sample - loss: 0.3161 - accuracy: 0.9429 - val_loss: 0.2259 - val_accuracy: 0.9556\n",
            "Epoch 71/100\n",
            "105/105 [==============================] - 0s 150us/sample - loss: 0.3146 - accuracy: 0.9524 - val_loss: 0.2279 - val_accuracy: 0.9778\n",
            "Epoch 72/100\n",
            "105/105 [==============================] - 0s 153us/sample - loss: 0.3173 - accuracy: 0.9429 - val_loss: 0.2298 - val_accuracy: 0.9778\n",
            "Epoch 73/100\n",
            "105/105 [==============================] - 0s 137us/sample - loss: 0.3117 - accuracy: 0.9429 - val_loss: 0.2291 - val_accuracy: 0.9778\n",
            "Epoch 74/100\n",
            "105/105 [==============================] - 0s 162us/sample - loss: 0.3109 - accuracy: 0.9429 - val_loss: 0.2322 - val_accuracy: 0.9778\n",
            "Epoch 75/100\n",
            "105/105 [==============================] - 0s 186us/sample - loss: 0.3089 - accuracy: 0.9429 - val_loss: 0.2303 - val_accuracy: 0.9778\n",
            "Epoch 76/100\n",
            "105/105 [==============================] - 0s 136us/sample - loss: 0.3069 - accuracy: 0.9429 - val_loss: 0.2233 - val_accuracy: 0.9778\n",
            "Epoch 77/100\n",
            "105/105 [==============================] - 0s 155us/sample - loss: 0.3071 - accuracy: 0.9333 - val_loss: 0.2212 - val_accuracy: 0.9778\n",
            "Epoch 78/100\n",
            "105/105 [==============================] - 0s 154us/sample - loss: 0.3035 - accuracy: 0.9429 - val_loss: 0.2190 - val_accuracy: 0.9778\n",
            "Epoch 79/100\n",
            "105/105 [==============================] - 0s 155us/sample - loss: 0.3024 - accuracy: 0.9429 - val_loss: 0.2167 - val_accuracy: 0.9778\n",
            "Epoch 80/100\n",
            "105/105 [==============================] - 0s 148us/sample - loss: 0.3012 - accuracy: 0.9429 - val_loss: 0.2111 - val_accuracy: 0.9556\n",
            "Epoch 81/100\n",
            "105/105 [==============================] - 0s 144us/sample - loss: 0.3008 - accuracy: 0.9619 - val_loss: 0.2157 - val_accuracy: 0.9778\n",
            "Epoch 82/100\n",
            "105/105 [==============================] - 0s 174us/sample - loss: 0.2975 - accuracy: 0.9333 - val_loss: 0.2109 - val_accuracy: 0.9778\n",
            "Epoch 83/100\n",
            "105/105 [==============================] - 0s 134us/sample - loss: 0.2963 - accuracy: 0.9524 - val_loss: 0.2141 - val_accuracy: 0.9778\n",
            "Epoch 84/100\n",
            "105/105 [==============================] - 0s 137us/sample - loss: 0.2960 - accuracy: 0.9333 - val_loss: 0.2128 - val_accuracy: 0.9778\n",
            "Epoch 85/100\n",
            "105/105 [==============================] - 0s 154us/sample - loss: 0.2933 - accuracy: 0.9429 - val_loss: 0.2118 - val_accuracy: 0.9778\n",
            "Epoch 86/100\n",
            "105/105 [==============================] - 0s 204us/sample - loss: 0.2926 - accuracy: 0.9429 - val_loss: 0.2058 - val_accuracy: 0.9778\n",
            "Epoch 87/100\n",
            "105/105 [==============================] - 0s 199us/sample - loss: 0.2908 - accuracy: 0.9429 - val_loss: 0.2074 - val_accuracy: 0.9778\n",
            "Epoch 88/100\n",
            "105/105 [==============================] - 0s 163us/sample - loss: 0.2889 - accuracy: 0.9429 - val_loss: 0.2136 - val_accuracy: 0.9778\n",
            "Epoch 89/100\n",
            "105/105 [==============================] - 0s 176us/sample - loss: 0.2907 - accuracy: 0.9524 - val_loss: 0.2065 - val_accuracy: 0.9778\n",
            "Epoch 90/100\n",
            "105/105 [==============================] - 0s 144us/sample - loss: 0.2872 - accuracy: 0.9429 - val_loss: 0.2012 - val_accuracy: 0.9556\n",
            "Epoch 91/100\n",
            "105/105 [==============================] - 0s 145us/sample - loss: 0.2866 - accuracy: 0.9429 - val_loss: 0.1987 - val_accuracy: 0.9556\n",
            "Epoch 92/100\n",
            "105/105 [==============================] - 0s 150us/sample - loss: 0.2859 - accuracy: 0.9524 - val_loss: 0.1992 - val_accuracy: 0.9778\n",
            "Epoch 93/100\n",
            "105/105 [==============================] - 0s 159us/sample - loss: 0.2837 - accuracy: 0.9524 - val_loss: 0.1972 - val_accuracy: 0.9556\n",
            "Epoch 94/100\n",
            "105/105 [==============================] - 0s 149us/sample - loss: 0.2837 - accuracy: 0.9524 - val_loss: 0.1956 - val_accuracy: 0.9556\n",
            "Epoch 95/100\n",
            "105/105 [==============================] - 0s 147us/sample - loss: 0.2818 - accuracy: 0.9619 - val_loss: 0.1979 - val_accuracy: 0.9778\n",
            "Epoch 96/100\n",
            "105/105 [==============================] - 0s 150us/sample - loss: 0.2790 - accuracy: 0.9429 - val_loss: 0.2014 - val_accuracy: 0.9778\n",
            "Epoch 97/100\n",
            "105/105 [==============================] - 0s 163us/sample - loss: 0.2781 - accuracy: 0.9429 - val_loss: 0.1961 - val_accuracy: 0.9778\n",
            "Epoch 98/100\n",
            "105/105 [==============================] - 0s 156us/sample - loss: 0.2764 - accuracy: 0.9429 - val_loss: 0.1934 - val_accuracy: 0.9778\n",
            "Epoch 99/100\n",
            "105/105 [==============================] - 0s 181us/sample - loss: 0.2752 - accuracy: 0.9429 - val_loss: 0.1912 - val_accuracy: 0.9778\n",
            "Epoch 100/100\n",
            "105/105 [==============================] - 0s 190us/sample - loss: 0.2736 - accuracy: 0.9524 - val_loss: 0.1958 - val_accuracy: 0.9778\n"
          ],
          "name": "stdout"
        }
      ]
    },
    {
      "cell_type": "markdown",
      "metadata": {
        "id": "D5sUpyheVjyW",
        "colab_type": "text"
      },
      "source": [
        "LOSS AND ACCURACY GRAPHS"
      ]
    },
    {
      "cell_type": "code",
      "metadata": {
        "id": "-ZHu2Dt-P4hk",
        "colab_type": "code",
        "colab": {
          "base_uri": "https://localhost:8080/",
          "height": 295
        },
        "outputId": "cc8bdf11-d024-42de-c08e-8d9303812189"
      },
      "source": [
        "loss = history.history['loss']\n",
        "val_loss = history.history['val_loss']\n",
        "epochs = range(1, len(loss) + 1)\n",
        "plt.plot(epochs, loss, 'bo', label='Training loss')\n",
        "plt.plot(epochs, val_loss, 'b', label='Validation loss')\n",
        "plt.title('Training and validation loss')\n",
        "plt.xlabel('Epochs')\n",
        "plt.ylabel('Loss')\n",
        "plt.legend()\n",
        "plt.show()"
      ],
      "execution_count": 36,
      "outputs": [
        {
          "output_type": "display_data",
          "data": {
            "image/png": "[encoded data removed]",
            "text/plain": [
              "<Figure size 432x288 with 1 Axes>"
            ]
          },
          "metadata": {
            "tags": []
          }
        }
      ]
    },
    {
      "cell_type": "code",
      "metadata": {
        "id": "zy8M2EDLP4jf",
        "colab_type": "code",
        "colab": {
          "base_uri": "https://localhost:8080/",
          "height": 295
        },
        "outputId": "b7f18682-76ff-4f1d-ee4e-7dc4ecdaa1ed"
      },
      "source": [
        "plt.clf()\n",
        "acc = history.history['accuracy']\n",
        "val_acc = history.history['val_accuracy']\n",
        "plt.plot(epochs, acc, 'bo', label='Training acc')\n",
        "plt.plot(epochs, val_acc, 'b', label='Validation acc')\n",
        "plt.title('Training and validation accuracy')\n",
        "plt.xlabel('Epochs')\n",
        "plt.ylabel('Loss')\n",
        "plt.legend()\n",
        "plt.show()"
      ],
      "execution_count": 41,
      "outputs": [
        {
          "output_type": "display_data",
          "data": {
            "image/png": "[encoded data removed]",
            "text/plain": [
              "<Figure size 432x288 with 1 Axes>"
            ]
          },
          "metadata": {
            "tags": []
          }
        }
      ]
    },
    {
      "cell_type": "markdown",
      "metadata": {
        "id": "gM5v2wH7Vyly",
        "colab_type": "text"
      },
      "source": [
        "TESTING SETS"
      ]
    },
    {
      "cell_type": "code",
      "metadata": {
        "id": "5RZwqcs_QKz1",
        "colab_type": "code",
        "colab": {
          "base_uri": "https://localhost:8080/",
          "height": 51
        },
        "outputId": "9ff1eadb-8312-447d-a26f-6c3138fbe800"
      },
      "source": [
        "test_loss, test_acc = model.evaluate(x_test, y_test)\n",
        "print('test_acc:', test_acc)"
      ],
      "execution_count": 42,
      "outputs": [
        {
          "output_type": "stream",
          "text": [
            "45/45 [==============================] - 0s 135us/sample - loss: 0.1958 - accuracy: 0.9778\n",
            "test_acc: 0.9777778\n"
          ],
          "name": "stdout"
        }
      ]
    }
  ]
}